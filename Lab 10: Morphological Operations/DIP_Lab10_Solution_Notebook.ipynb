{
  "nbformat": 4,
  "nbformat_minor": 0,
  "metadata": {
    "colab": {
      "name": "DIP_Lab10.ipynb",
      "provenance": []
    },
    "kernelspec": {
      "name": "python3",
      "display_name": "Python 3"
    }
  },
  "cells": [
    {
      "cell_type": "code",
      "metadata": {
        "id": "bvrpY7y-4g4u",
        "colab_type": "code",
        "colab": {}
      },
      "source": [
        "import numpy as np\n",
        "from PIL import Image\n",
        "import cv2\n",
        "from google.colab.patches import cv2_imshow\n",
        "from matplotlib import pyplot as plt"
      ],
      "execution_count": 0,
      "outputs": []
    },
    {
      "cell_type": "code",
      "metadata": {
        "id": "BdoIE6eKLlaJ",
        "colab_type": "code",
        "colab": {
          "base_uri": "https://localhost:8080/",
          "height": 254
        },
        "outputId": "c0d1ced6-ba03-4f5c-e648-bf8edd05aefb"
      },
      "source": [
        "img = cv2.imread(\"fp.tif\", 0)\n",
        "cv2_imshow(img)"
      ],
      "execution_count": 2,
      "outputs": [
        {
          "output_type": "display_data",
          "data": {
            "image/png": "[encoded data removed]",
            "text/plain": [
              "<PIL.Image.Image image mode=L size=315x238 at 0x7F35C1AA9278>"
            ]
          },
          "metadata": {
            "tags": []
          }
        }
      ]
    },
    {
      "cell_type": "code",
      "metadata": {
        "id": "cSfhOqBEYeIB",
        "colab_type": "code",
        "colab": {
          "base_uri": "https://localhost:8080/",
          "height": 67
        },
        "outputId": "f6ff77d1-e5b9-43ea-b305-08d709b4eee3"
      },
      "source": [
        "SE = np.ones((3,3), dtype=int)\n",
        "SE"
      ],
      "execution_count": 3,
      "outputs": [
        {
          "output_type": "execute_result",
          "data": {
            "text/plain": [
              "array([[1, 1, 1],\n",
              "       [1, 1, 1],\n",
              "       [1, 1, 1]])"
            ]
          },
          "metadata": {
            "tags": []
          },
          "execution_count": 3
        }
      ]
    },
    {
      "cell_type": "code",
      "metadata": {
        "id": "ZcXdcX_PLmtv",
        "colab_type": "code",
        "colab": {}
      },
      "source": [
        "def erode(img, SE, iterations):\n",
        "  pad_rows=int((SE.shape[0]-1)/2)\n",
        "  pad_cols=int((SE.shape[1]-1)/2)\n",
        "  SE = SE * 255 \n",
        "  padImg = cv2.copyMakeBorder(img, pad_rows, pad_rows, pad_cols, pad_cols, cv2.BORDER_CONSTANT ,0)\n",
        "  \n",
        "  for iter in range(iterations):\n",
        "    res_img = np.zeros(img.shape,dtype=int)\n",
        "    for row in range(img.shape[0]):\n",
        "      for col in range(img.shape[1]):\n",
        "        if(padImg[row][col] != 0):\n",
        "          flag = 1\n",
        "          for row_fil in range(SE.shape[0]):\n",
        "            for col_fil in range(SE.shape[1]):\n",
        "              if(SE[row_fil,col_fil] != padImg[row_fil+row,col_fil+col] and SE[row_fil,col_fil] ==255):\n",
        "                flag = 0;\n",
        "                break;\n",
        "          if(flag == 1):\n",
        "            res_img[row,col]= 255\n",
        "    padImg = cv2.copyMakeBorder(res_img, pad_rows, pad_rows, pad_cols, pad_cols, cv2.BORDER_CONSTANT ,0)\n",
        "    \n",
        "        \n",
        "  return res_img"
      ],
      "execution_count": 0,
      "outputs": []
    },
    {
      "cell_type": "code",
      "metadata": {
        "id": "hbb0_-O_mkvp",
        "colab_type": "code",
        "colab": {}
      },
      "source": [
        "ret, binImg = cv2.threshold(img,127,255,cv2.THRESH_BINARY)"
      ],
      "execution_count": 0,
      "outputs": []
    },
    {
      "cell_type": "code",
      "metadata": {
        "id": "82zil4V-LtIo",
        "colab_type": "code",
        "colab": {
          "base_uri": "https://localhost:8080/",
          "height": 254
        },
        "outputId": "8e4653a6-f8a8-4532-f81b-a759b9bcfe9b"
      },
      "source": [
        "ero_img = erode(img, SE, iterations =1)\n",
        "cv2_imshow(ero_img)"
      ],
      "execution_count": 129,
      "outputs": [
        {
          "output_type": "display_data",
          "data": {
            "image/png": "[encoded data removed]",
            "text/plain": [
              "<PIL.Image.Image image mode=L size=315x238 at 0x7F35C0E5D908>"
            ]
          },
          "metadata": {
            "tags": []
          }
        }
      ]
    },
    {
      "cell_type": "code",
      "metadata": {
        "id": "hDuSKd2ucAjJ",
        "colab_type": "code",
        "colab": {}
      },
      "source": [
        "def dilate(img, SE, iterations):\n",
        "  pad_rows=int((SE.shape[0]-1)/2)\n",
        "  pad_cols=int((SE.shape[1]-1)/2)\n",
        "  SE = SE * 255 \n",
        "  padImg = cv2.copyMakeBorder(img, pad_rows, pad_rows, pad_cols, pad_cols, cv2.BORDER_CONSTANT ,0)\n",
        "  \n",
        "  for iter in range(iterations):\n",
        "    res_img = np.zeros(img.shape,dtype=int)\n",
        "    for row in range(img.shape[0]):\n",
        "      for col in range(img.shape[1]):\n",
        "        flag=0\n",
        "        for row_fil in range(SE.shape[0]):\n",
        "          for col_fil in range(SE.shape[1]):\n",
        "            if( SE[row_fil,col_fil] == 255 and (SE[row_fil,col_fil] == padImg[row_fil+row,col_fil+col])):\n",
        "              flag = 1;\n",
        "              break;\n",
        "        if(flag == 1):\n",
        "          res_img[row,col]= 255\n",
        "    padImg = cv2.copyMakeBorder(res_img, pad_rows, pad_rows, pad_cols, pad_cols, cv2.BORDER_CONSTANT ,0)\n",
        "    \n",
        "        \n",
        "  return res_img"
      ],
      "execution_count": 0,
      "outputs": []
    },
    {
      "cell_type": "code",
      "metadata": {
        "id": "i5a6bbBhsH6J",
        "colab_type": "code",
        "colab": {
          "base_uri": "https://localhost:8080/",
          "height": 271
        },
        "outputId": "be4c37a9-a662-4149-91ac-8f814e041483"
      },
      "source": [
        "# Dilating the original finger prints image\n",
        "dil_img = dilate(img , SE, 1)\n",
        "cv2_imshow(dil_img)"
      ],
      "execution_count": 90,
      "outputs": [
        {
          "output_type": "stream",
          "text": [
            "iteration\n"
          ],
          "name": "stdout"
        },
        {
          "output_type": "display_data",
          "data": {
            "image/png": "[encoded data removed]",
            "text/plain": [
              "<PIL.Image.Image image mode=L size=315x238 at 0x7F35C1701828>"
            ]
          },
          "metadata": {
            "tags": []
          }
        }
      ]
    },
    {
      "cell_type": "code",
      "metadata": {
        "id": "za4iH2aih_4v",
        "colab_type": "code",
        "colab": {
          "base_uri": "https://localhost:8080/",
          "height": 271
        },
        "outputId": "35a938a6-47b6-49e3-8aba-0585223f386e"
      },
      "source": [
        "# Now dilate the previous eroded image\n",
        "dil_ero_img = dilate(ero_img, SE, 1)  \n",
        "cv2_imshow(dil_ero_img)"
      ],
      "execution_count": 91,
      "outputs": [
        {
          "output_type": "stream",
          "text": [
            "iteration\n"
          ],
          "name": "stdout"
        },
        {
          "output_type": "display_data",
          "data": {
            "image/png": "[encoded data removed]",
            "text/plain": [
              "<PIL.Image.Image image mode=L size=315x238 at 0x7F35C17012E8>"
            ]
          },
          "metadata": {
            "tags": []
          }
        }
      ]
    },
    {
      "cell_type": "code",
      "metadata": {
        "id": "PfGnlxrqk0E5",
        "colab_type": "code",
        "colab": {
          "base_uri": "https://localhost:8080/",
          "height": 460
        },
        "outputId": "a373d5ce-4737-4220-a8b2-ab7e7d6f828a"
      },
      "source": [
        "broken_text_img = cv2.imread(\"broken_text.tif\", 0)\n",
        "ret, broken_text_img = cv2.threshold(broken_text_img,127,255,cv2.THRESH_BINARY)\n",
        "cv2_imshow(broken_text_img)"
      ],
      "execution_count": 84,
      "outputs": [
        {
          "output_type": "display_data",
          "data": {
            "image/png": "[encoded data removed]",
            "text/plain": [
              "<PIL.Image.Image image mode=L size=508x444 at 0x7F35C1701A20>"
            ]
          },
          "metadata": {
            "tags": []
          }
        }
      ]
    },
    {
      "cell_type": "code",
      "metadata": {
        "id": "Pgpyd4xr1fMB",
        "colab_type": "code",
        "colab": {
          "base_uri": "https://localhost:8080/",
          "height": 477
        },
        "outputId": "7f051fea-ec33-4fce-b455-0ec0a1b6cab4"
      },
      "source": [
        "dil_text_img = dilate(broken_text_img, SE, 1)\n",
        "cv2_imshow(dil_text_img)\n"
      ],
      "execution_count": 92,
      "outputs": [
        {
          "output_type": "stream",
          "text": [
            "iteration\n"
          ],
          "name": "stdout"
        },
        {
          "output_type": "display_data",
          "data": {
            "image/png": "[encoded data removed]",
            "text/plain": [
              "<PIL.Image.Image image mode=L size=508x444 at 0x7F35C1701710>"
            ]
          },
          "metadata": {
            "tags": []
          }
        }
      ]
    },
    {
      "cell_type": "code",
      "metadata": {
        "id": "5a_hw9pH1969",
        "colab_type": "code",
        "colab": {}
      },
      "source": [
        "SE2 = np.array(([0 , 0, 0],\n",
        "              [1, 1, 1],\n",
        "              [0, 0, 0]), dtype='uint8')\n",
        "\n",
        "SE3 = np.array(([0 , 1, 0],\n",
        "              [1, 1, 1],\n",
        "              [0, 1, 0]),dtype='uint8')\n",
        "\n",
        "SE4 = np.array(([1 , 0, 1],\n",
        "              [0, 1, 0],\n",
        "              [1, 0, 1]), dtype='uint8')\n",
        "\n",
        "\n",
        "SE5 = np.array(([1 , 1, 1],\n",
        "              [0, 0, 0],\n",
        "              [1, 1, 1]), dtype='uint8')\n",
        "\n",
        "SE6 = np.array(([1 , 0, 1],\n",
        "              [1, 1, 1],\n",
        "              [1, 0, 1]), dtype='uint8')\n"
      ],
      "execution_count": 0,
      "outputs": []
    },
    {
      "cell_type": "code",
      "metadata": {
        "id": "jYoCRU2N4fhn",
        "colab_type": "code",
        "colab": {
          "base_uri": "https://localhost:8080/",
          "height": 477
        },
        "outputId": "47fdd8f1-6091-439a-c63e-55a674ae87e6"
      },
      "source": [
        "dil_text_img = dilate(broken_text_img, SE2, 1)\n",
        "cv2_imshow(dil_text_img)\n"
      ],
      "execution_count": 99,
      "outputs": [
        {
          "output_type": "stream",
          "text": [
            "iteration\n"
          ],
          "name": "stdout"
        },
        {
          "output_type": "display_data",
          "data": {
            "image/png": "[encoded data removed]",
            "text/plain": [
              "<PIL.Image.Image image mode=L size=508x444 at 0x7F35C17015F8>"
            ]
          },
          "metadata": {
            "tags": []
          }
        }
      ]
    },
    {
      "cell_type": "code",
      "metadata": {
        "id": "91RvbJ7r1347",
        "colab_type": "code",
        "colab": {
          "base_uri": "https://localhost:8080/",
          "height": 477
        },
        "outputId": "d592c4ee-d6eb-479b-9f06-137d89febf37"
      },
      "source": [
        "dil_text_img = dilate(broken_text_img, SE3, 1)\n",
        "cv2_imshow(dil_text_img)\n"
      ],
      "execution_count": 98,
      "outputs": [
        {
          "output_type": "stream",
          "text": [
            "iteration\n"
          ],
          "name": "stdout"
        },
        {
          "output_type": "display_data",
          "data": {
            "image/png": "[encoded data removed]",
            "text/plain": [
              "<PIL.Image.Image image mode=L size=508x444 at 0x7F35C1701160>"
            ]
          },
          "metadata": {
            "tags": []
          }
        }
      ]
    },
    {
      "cell_type": "code",
      "metadata": {
        "id": "KeWppwtr2TZa",
        "colab_type": "code",
        "colab": {
          "base_uri": "https://localhost:8080/",
          "height": 477
        },
        "outputId": "f692c55b-78b5-4cd0-8c84-5c27dc3d7b59"
      },
      "source": [
        "dil_text_img = dilate(broken_text_img, SE4, 1)\n",
        "cv2_imshow(dil_text_img)\n"
      ],
      "execution_count": 100,
      "outputs": [
        {
          "output_type": "stream",
          "text": [
            "iteration\n"
          ],
          "name": "stdout"
        },
        {
          "output_type": "display_data",
          "data": {
            "image/png": "[encoded data removed]",
            "text/plain": [
              "<PIL.Image.Image image mode=L size=508x444 at 0x7F35C17016D8>"
            ]
          },
          "metadata": {
            "tags": []
          }
        }
      ]
    },
    {
      "cell_type": "code",
      "metadata": {
        "id": "fz21pNX46p75",
        "colab_type": "code",
        "colab": {}
      },
      "source": [
        ""
      ],
      "execution_count": 0,
      "outputs": []
    },
    {
      "cell_type": "code",
      "metadata": {
        "id": "sXkZnWzS4kog",
        "colab_type": "code",
        "colab": {
          "base_uri": "https://localhost:8080/",
          "height": 517
        },
        "outputId": "e86023b6-3db3-4d05-ce23-ccd189197141"
      },
      "source": [
        "fig_img = cv2.imread(\"Fig01.tif\", 0 )\n",
        "cv2_imshow(fig_img)"
      ],
      "execution_count": 102,
      "outputs": [
        {
          "output_type": "display_data",
          "data": {
            "image/png": "[encoded data removed]",
            "text/plain": [
              "<PIL.Image.Image image mode=L size=500x500 at 0x7F35C17012B0>"
            ]
          },
          "metadata": {
            "tags": []
          }
        }
      ]
    },
    {
      "cell_type": "code",
      "metadata": {
        "id": "u2ZeTiL15JKC",
        "colab_type": "code",
        "colab": {
          "base_uri": "https://localhost:8080/",
          "height": 534
        },
        "outputId": "cba8a5e3-0540-46bd-fd37-4837ce5f3257"
      },
      "source": [
        "fig_ero_img = erode(fig_img, SE , 1)\n",
        "cv2_imshow(fig_ero_img)"
      ],
      "execution_count": 104,
      "outputs": [
        {
          "output_type": "stream",
          "text": [
            "iteration\n"
          ],
          "name": "stdout"
        },
        {
          "output_type": "display_data",
          "data": {
            "image/png": "[encoded data removed]",
            "text/plain": [
              "<PIL.Image.Image image mode=L size=500x500 at 0x7F35C0E672B0>"
            ]
          },
          "metadata": {
            "tags": []
          }
        }
      ]
    },
    {
      "cell_type": "code",
      "metadata": {
        "id": "ib-Zxetz5bSD",
        "colab_type": "code",
        "colab": {
          "base_uri": "https://localhost:8080/",
          "height": 534
        },
        "outputId": "fa9dd143-e8f0-4a3e-83b2-99d9f6d9b696"
      },
      "source": [
        "fig_dil_img = dilate(fig_img, SE, 1)\n",
        "cv2_imshow(fig_dil_img)"
      ],
      "execution_count": 118,
      "outputs": [
        {
          "output_type": "stream",
          "text": [
            "iteration\n"
          ],
          "name": "stdout"
        },
        {
          "output_type": "display_data",
          "data": {
            "image/png": "[encoded data removed]",
            "text/plain": [
              "<PIL.Image.Image image mode=L size=500x500 at 0x7F35C0E5DD30>"
            ]
          },
          "metadata": {
            "tags": []
          }
        }
      ]
    },
    {
      "cell_type": "code",
      "metadata": {
        "id": "JPyDfbWG6rgJ",
        "colab_type": "code",
        "colab": {}
      },
      "source": [
        "\n",
        "  def dilate2(img, SE, iterations):\n",
        "  pad_rows=int((SE.shape[0]-1)/2)\n",
        "  pad_cols=int((SE.shape[1]-1)/2)\n",
        "  SE = SE * 255 \n",
        "  padImg = cv2.copyMakeBorder(img, pad_rows, pad_rows, pad_cols, pad_cols, cv2.BORDER_CONSTANT ,0)\n",
        "  max_val = np.max(img)\n",
        "  for iter in range(iterations):\n",
        "    res_img = np.full(img.shape, np.min(img), dtype=int)\n",
        "    for row in range(img.shape[0]):\n",
        "      for col in range(img.shape[1]):\n",
        "        flag=0\n",
        "        for row_fil in range(SE.shape[0]):\n",
        "          for col_fil in range(SE.shape[1]):\n",
        "            if( SE[row_fil,col_fil] == 255 and  padImg[row_fil+row,col_fil+col] == max_val):\n",
        "              flag = 1;\n",
        "              break;\n",
        "        if(flag == 1):\n",
        "          res_img[row,col]= max_val\n",
        "    padImg = cv2.copyMakeBorder(res_img, pad_rows, pad_rows, pad_cols, pad_cols, cv2.BORDER_CONSTANT ,0)\n",
        "\n",
        "        \n",
        "  return res_img "
      ],
      "execution_count": 0,
      "outputs": []
    },
    {
      "cell_type": "code",
      "metadata": {
        "id": "LqkAziaZ54LQ",
        "colab_type": "code",
        "colab": {
          "base_uri": "https://localhost:8080/",
          "height": 517
        },
        "outputId": "a3869ba1-471a-4513-c983-50ae34695194"
      },
      "source": [
        "cv2_imshow(cv2.dilate(fig_img, SE, 1))"
      ],
      "execution_count": 107,
      "outputs": [
        {
          "output_type": "display_data",
          "data": {
            "image/png": "[encoded data removed]",
            "text/plain": [
              "<PIL.Image.Image image mode=L size=500x500 at 0x7F35C0E67828>"
            ]
          },
          "metadata": {
            "tags": []
          }
        }
      ]
    },
    {
      "cell_type": "code",
      "metadata": {
        "id": "b289Qyj96bY1",
        "colab_type": "code",
        "colab": {
          "base_uri": "https://localhost:8080/",
          "height": 517
        },
        "outputId": "09d9e0e0-442a-424d-9fac-f85ecc814eaf"
      },
      "source": [
        "cv2_imshow(cv2.erode(fig_img, SE, 1))"
      ],
      "execution_count": 119,
      "outputs": [
        {
          "output_type": "display_data",
          "data": {
            "image/png": "[encoded data removed]",
            "text/plain": [
              "<PIL.Image.Image image mode=L size=500x500 at 0x7F35C0E67EF0>"
            ]
          },
          "metadata": {
            "tags": []
          }
        }
      ]
    },
    {
      "cell_type": "code",
      "metadata": {
        "id": "oH16QQnFBgwA",
        "colab_type": "code",
        "colab": {
          "base_uri": "https://localhost:8080/",
          "height": 285
        },
        "outputId": "83530fd1-565b-4ac0-bb2b-7930e418cddf"
      },
      "source": [
        "objects_img = cv2.imread(\"Objects.png\", 0)\n",
        "cv2_imshow(objects_img)"
      ],
      "execution_count": 120,
      "outputs": [
        {
          "output_type": "display_data",
          "data": {
            "image/png": "[encoded data removed]",
            "text/plain": [
              "<PIL.Image.Image image mode=L size=443x269 at 0x7F35C1798B38>"
            ]
          },
          "metadata": {
            "tags": []
          }
        }
      ]
    },
    {
      "cell_type": "code",
      "metadata": {
        "id": "Kx8PYK34DMF-",
        "colab_type": "code",
        "colab": {
          "base_uri": "https://localhost:8080/",
          "height": 67
        },
        "outputId": "7fcf64fe-3ff5-4c9d-9411-518eba555512"
      },
      "source": [
        "SE4"
      ],
      "execution_count": 250,
      "outputs": [
        {
          "output_type": "execute_result",
          "data": {
            "text/plain": [
              "array([[1, 0, 1],\n",
              "       [0, 1, 0],\n",
              "       [1, 0, 1]], dtype=uint8)"
            ]
          },
          "metadata": {
            "tags": []
          },
          "execution_count": 250
        }
      ]
    },
    {
      "cell_type": "code",
      "metadata": {
        "id": "qe--FCRmBvLU",
        "colab_type": "code",
        "colab": {
          "base_uri": "https://localhost:8080/",
          "height": 285
        },
        "outputId": "fb49c4bf-d4e7-47b0-dd60-4c8924be9d29"
      },
      "source": [
        "rectangle = (erode(objects_img, SE4,35 ))\n",
        "cv2_imshow(rectangle)"
      ],
      "execution_count": 153,
      "outputs": [
        {
          "output_type": "display_data",
          "data": {
            "image/png": "[encoded data removed]",
            "text/plain": [
              "<PIL.Image.Image image mode=L size=443x269 at 0x7F35C0E5D0B8>"
            ]
          },
          "metadata": {
            "tags": []
          }
        }
      ]
    },
    {
      "cell_type": "code",
      "metadata": {
        "id": "6PMEhAbyFxuw",
        "colab_type": "code",
        "colab": {
          "base_uri": "https://localhost:8080/",
          "height": 285
        },
        "outputId": "bef55e8d-186b-493e-bf6e-180269519147"
      },
      "source": [
        "rectangle = dilate(rectangle , SE , 20)\n",
        "cv2_imshow(rectangle)"
      ],
      "execution_count": 156,
      "outputs": [
        {
          "output_type": "display_data",
          "data": {
            "image/png": "[encoded data removed]",
            "text/plain": [
              "<PIL.Image.Image image mode=L size=443x269 at 0x7F35C0E78278>"
            ]
          },
          "metadata": {
            "tags": []
          }
        }
      ]
    },
    {
      "cell_type": "code",
      "metadata": {
        "id": "XUworbsVLWyy",
        "colab_type": "code",
        "colab": {}
      },
      "source": [
        "SE5 = np.array(([1 , 1, 1],\n",
        "              [1, 0, 1],\n",
        "              [1, 1, 1]), dtype='uint8')\n"
      ],
      "execution_count": 0,
      "outputs": []
    },
    {
      "cell_type": "code",
      "metadata": {
        "id": "u6NC_hv4CesF",
        "colab_type": "code",
        "colab": {
          "base_uri": "https://localhost:8080/",
          "height": 285
        },
        "outputId": "4dcd81c8-d459-4e67-b632-9165b07e8389"
      },
      "source": [
        "star = cv2.erode(objects_img, SE3,iterations=48)\n",
        "star = cv2.dilate(star, SE3, iterations=30 )\n",
        "cv2_imshow(star)"
      ],
      "execution_count": 183,
      "outputs": [
        {
          "output_type": "display_data",
          "data": {
            "image/png": "[encoded data removed]",
            "text/plain": [
              "<PIL.Image.Image image mode=L size=443x269 at 0x7F35C0E20630>"
            ]
          },
          "metadata": {
            "tags": []
          }
        }
      ]
    },
    {
      "cell_type": "code",
      "metadata": {
        "id": "dxbR-Ep2U01N",
        "colab_type": "code",
        "colab": {
          "base_uri": "https://localhost:8080/",
          "height": 117
        },
        "outputId": "aa39193d-8600-440b-e8ef-33e4b345aa67"
      },
      "source": [
        "print(SE3)\n",
        "SE4"
      ],
      "execution_count": 212,
      "outputs": [
        {
          "output_type": "stream",
          "text": [
            "[[0 1 0]\n",
            " [1 1 1]\n",
            " [0 1 0]]\n"
          ],
          "name": "stdout"
        },
        {
          "output_type": "execute_result",
          "data": {
            "text/plain": [
              "array([[1, 0, 1],\n",
              "       [0, 1, 0],\n",
              "       [1, 0, 1]], dtype=uint8)"
            ]
          },
          "metadata": {
            "tags": []
          },
          "execution_count": 212
        }
      ]
    },
    {
      "cell_type": "code",
      "metadata": {
        "id": "DPlqbH3hEZEm",
        "colab_type": "code",
        "colab": {
          "base_uri": "https://localhost:8080/",
          "height": 285
        },
        "outputId": "f83c65b4-ffa9-48f2-93cb-78c6a1f676ea"
      },
      "source": [
        "circle = cv2.erode(objects_img, SE3,iterations=10)\n",
        "#circle = cv2.dilate(circle, SE3, iterations=30 )\n",
        "cv2_imshow(circle)"
      ],
      "execution_count": 228,
      "outputs": [
        {
          "output_type": "display_data",
          "data": {
            "image/png": "[encoded data removed]",
            "text/plain": [
              "<PIL.Image.Image image mode=L size=443x269 at 0x7F35C0E050B8>"
            ]
          },
          "metadata": {
            "tags": []
          }
        }
      ]
    },
    {
      "cell_type": "code",
      "metadata": {
        "id": "f-e2xIJDQj1h",
        "colab_type": "code",
        "colab": {
          "base_uri": "https://localhost:8080/",
          "height": 285
        },
        "outputId": "9eb126dc-3f4f-4099-e381-c1d1983846a0"
      },
      "source": [
        "circle2 = cv2.erode(circle, SE4,iterations=15)\n",
        "cv2_imshow(circle2)"
      ],
      "execution_count": 256,
      "outputs": [
        {
          "output_type": "display_data",
          "data": {
            "image/png": "[encoded data removed]",
            "text/plain": [
              "<PIL.Image.Image image mode=L size=443x269 at 0x7F35C0DD2A20>"
            ]
          },
          "metadata": {
            "tags": []
          }
        }
      ]
    },
    {
      "cell_type": "code",
      "metadata": {
        "id": "cS9W7AZTUkxl",
        "colab_type": "code",
        "colab": {
          "base_uri": "https://localhost:8080/",
          "height": 285
        },
        "outputId": "6ca266a2-a39c-469c-dad7-a484caf460c7"
      },
      "source": [
        "final_circle = cv2.erode(circle2, SE3, iterations=13 )\n",
        "cv2_imshow(final_circle)"
      ],
      "execution_count": 263,
      "outputs": [
        {
          "output_type": "display_data",
          "data": {
            "image/png": "[encoded data removed]",
            "text/plain": [
              "<PIL.Image.Image image mode=L size=443x269 at 0x7F35C0DD2CF8>"
            ]
          },
          "metadata": {
            "tags": []
          }
        }
      ]
    },
    {
      "cell_type": "code",
      "metadata": {
        "id": "XdewihrnZh4J",
        "colab_type": "code",
        "colab": {}
      },
      "source": [
        ""
      ],
      "execution_count": 0,
      "outputs": []
    }
  ]
}